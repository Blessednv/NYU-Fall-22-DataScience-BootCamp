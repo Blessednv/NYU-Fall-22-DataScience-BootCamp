{
  "nbformat": 4,
  "nbformat_minor": 0,
  "metadata": {
    "colab": {
      "provenance": [],
      "collapsed_sections": [
        "ptbOxtLzYkwt",
        "dOhlnJ3cZOG_"
      ]
    },
    "kernelspec": {
      "name": "python3",
      "display_name": "Python 3"
    },
    "language_info": {
      "name": "python"
    }
  },
  "cells": [
    {
      "cell_type": "markdown",
      "metadata": {
        "id": "7SjRpRssC2e-"
      },
      "source": [
        "# Introduction to Python"
      ]
    },
    {
      "cell_type": "code",
      "metadata": {
        "id": "B3-JWyWzCwrm"
      },
      "source": [
        "print('Hello, world!')"
      ],
      "execution_count": null,
      "outputs": []
    },
    {
      "cell_type": "markdown",
      "source": [
        "## Why its is so popular "
      ],
      "metadata": {
        "id": "fzKDRqtQrukJ"
      }
    },
    {
      "cell_type": "code",
      "source": [
        "## Print Hello World 3 times\n",
        "\n",
        "for i in range(3):\n",
        "  print(\"Hello World !\")"
      ],
      "metadata": {
        "id": "cSuLCSNurtqR"
      },
      "execution_count": null,
      "outputs": []
    },
    {
      "cell_type": "markdown",
      "source": [
        "## The ease of using python and clean good look comes at a cost - RUNTIME...!!!\n",
        "\n",
        "Compare with a Cpp code"
      ],
      "metadata": {
        "id": "J5YvkNLewAE8"
      }
    },
    {
      "cell_type": "code",
      "source": [
        "## This is a code to print Hello World 3 times and calculate the time taken to run it\n",
        "\n",
        "import time\n",
        "t = 0\n",
        "start_time = time.time()\n",
        "\n",
        "for i in range(3):\n",
        "  t+=1;\n",
        "  \n",
        "end_time = time.time()\n",
        "\n",
        "time_diff = (end_time - start_time)\n",
        "execution_time = time_diff * 10**6\n",
        "\n",
        "print(execution_time)"
      ],
      "metadata": {
        "id": "rcxgxW-Wv_HT"
      },
      "execution_count": null,
      "outputs": []
    },
    {
      "cell_type": "markdown",
      "metadata": {
        "id": "TI2v4cRlDXaK"
      },
      "source": [
        "## Just for fun!\n",
        "\n",
        "Did you know that entering `import this` prints the 'Zen of Python'?\n",
        "\n",
        "The Zen of Python is a collection of 19 \"guiding principles\" for writing computer programs that influence the design of the Python programming language.\n",
        "\n",
        "It is always good to follow the zen even when you have an opportunity to show off your Python skills! :)"
      ]
    },
    {
      "cell_type": "code",
      "metadata": {
        "id": "wx9lQCM0DfmX"
      },
      "source": [
        "import this"
      ],
      "execution_count": null,
      "outputs": []
    },
    {
      "cell_type": "markdown",
      "metadata": {
        "id": "ZPcJ_rESHwum"
      },
      "source": [
        "## The `help()` function\n",
        "\n",
        "The `help()` function in python is used to display the documentation of modules, functions, classes, etc.\n"
      ]
    },
    {
      "cell_type": "code",
      "metadata": {
        "id": "44SQH6V9DgVV"
      },
      "source": [
        "# help([object])\n",
        "help(print)"
      ],
      "execution_count": null,
      "outputs": []
    },
    {
      "cell_type": "markdown",
      "metadata": {
        "id": "AypvTz1OJgEv"
      },
      "source": [
        "**NOTE:** If the `help()` function is passed without an argument,then the interactive help utility starts up on the console."
      ]
    },
    {
      "cell_type": "markdown",
      "metadata": {
        "id": "U2Gx61gZJ5oj"
      },
      "source": [
        "## Accessing the Attributes (Methods) of any object or a library\n",
        "\n",
        "In order to understand the pre-loaded attributes of an object, we use the `dir()` function."
      ]
    },
    {
      "cell_type": "code",
      "metadata": {
        "id": "HVLY2TTyJuYy"
      },
      "source": [
        "# import <library name>\n",
        "# dir(<library name>)\n",
        "\n",
        "import math\n",
        "dir(math)"
      ],
      "execution_count": null,
      "outputs": []
    },
    {
      "cell_type": "code",
      "source": [
        "import math\n",
        "\n",
        "help(math.pow)"
      ],
      "metadata": {
        "id": "J2sK4zCkljLP"
      },
      "execution_count": null,
      "outputs": []
    },
    {
      "cell_type": "code",
      "source": [
        "a = math.pow(2,3)\n",
        "print(a)"
      ],
      "metadata": {
        "id": "0wa-nQ20nOTG"
      },
      "execution_count": null,
      "outputs": []
    },
    {
      "cell_type": "markdown",
      "metadata": {
        "id": "RKJPIBVeQ-Rr"
      },
      "source": [
        "## Data types in Python\n",
        "\n",
        "Python has the a bunch of built-in data types by default:\n",
        "\n",
        "Text: `str`\n",
        "\n",
        "Numeric: `int`, `float`, `complex`\n",
        "\n",
        "Sequence: `list`, `tuple`, `range`\n",
        "\n",
        "Mapping: `dict`\n",
        "\n",
        "Set: `set`\n",
        "\n",
        "Boolean: `bool`\n",
        "\n",
        "Binary: `bytes`, `bytearray`, `memoryview`"
      ]
    },
    {
      "cell_type": "code",
      "source": [
        "# type(variable) prints the data type of the variable. In this case, list\n",
        "a = 5\n",
        "print(type(a))"
      ],
      "metadata": {
        "id": "5auG2KGqBOon"
      },
      "execution_count": null,
      "outputs": []
    },
    {
      "cell_type": "code",
      "metadata": {
        "id": "jWGwNMZ3SfpC"
      },
      "source": [
        "# type(variable) prints the data type of the variable. In this case, string\n",
        "\n",
        "name = 'Jimmy ' + 'Fallon'\n",
        "\n",
        "print(name)\n",
        "print(type(name))"
      ],
      "execution_count": null,
      "outputs": []
    },
    {
      "cell_type": "markdown",
      "metadata": {
        "id": "c9H2KIZrTP8x"
      },
      "source": [
        "**NOTE:** The initialization of data-type to a particular variable happens automaticaly when we assign a value to a variable."
      ]
    },
    {
      "cell_type": "code",
      "metadata": {
        "id": "li1jP3axTX-l"
      },
      "source": [
        "# class float\n",
        "decimal = 0.690000\n",
        "print(decimal)\n",
        "\n",
        "print(type(decimal))"
      ],
      "execution_count": null,
      "outputs": []
    },
    {
      "cell_type": "code",
      "metadata": {
        "id": "IUflSg0FTjcG"
      },
      "source": [
        "# list\n",
        "groceries = ['apples', 20, 'cake mix', 'kitchen roll']\n",
        "\n",
        "print(groceries)\n",
        "print(type(groceries))\n",
        "\n",
        "groceries.append(\"paper towel\")\n",
        "print(groceries)"
      ],
      "execution_count": null,
      "outputs": []
    },
    {
      "cell_type": "code",
      "source": [
        "x = ('Apple', 'Tim', 'iPhone')\n",
        "print(type(x))"
      ],
      "metadata": {
        "id": "G_WLNzwHI1iM"
      },
      "execution_count": null,
      "outputs": []
    },
    {
      "cell_type": "code",
      "metadata": {
        "id": "ZqWeUPXVT2J4"
      },
      "source": [
        "# class list, but tuples\n",
        "\n",
        "a = [(1, 2), (3, 4, 5), (6, 7)]\n",
        "print(type(a))"
      ],
      "execution_count": null,
      "outputs": []
    },
    {
      "cell_type": "markdown",
      "source": [
        "### Difference between a list and tuple\n",
        "\n",
        "The main difference is that list are immutable and tuples are not\n",
        "\n",
        "for e.g.\n"
      ],
      "metadata": {
        "id": "ezmfkQRXJayr"
      }
    },
    {
      "cell_type": "code",
      "source": [
        "#list \n",
        "list1 = [1,2,3,4,5]\n",
        "\n",
        "print(l[3])\n",
        "print()"
      ],
      "metadata": {
        "id": "Yq8GadxJJZpC"
      },
      "execution_count": null,
      "outputs": []
    },
    {
      "cell_type": "code",
      "source": [
        "#tuple\n",
        "tuple1 = (1,2,3,4,5)\n",
        "\n",
        "print(tuple1[3])\n",
        "tuple1.append(20)\n"
      ],
      "metadata": {
        "id": "Sa9hzjaHKEq0"
      },
      "execution_count": null,
      "outputs": []
    },
    {
      "cell_type": "code",
      "metadata": {
        "id": "JqynSwC0ULb_"
      },
      "source": [
        "# class set\n",
        "\n",
        "sets = set((10, 2, 3, 6876))\n",
        "print(sets)\n",
        "\n",
        "print(type(sets))"
      ],
      "execution_count": null,
      "outputs": []
    },
    {
      "cell_type": "code",
      "metadata": {
        "id": "tzzxfQLIUTc5"
      },
      "source": [
        "# class dictionary\n",
        "\n",
        "hpc = {'Harry': '10', 'Ronald':'Weasley', 'Snape':8}\n",
        "\n",
        "print(hpc)\n",
        "print(type(hpc))"
      ],
      "execution_count": null,
      "outputs": []
    },
    {
      "cell_type": "code",
      "metadata": {
        "id": "lE-8ouBSUySo"
      },
      "source": [
        "# class boolean\n",
        "\n",
        "boolean = True\n",
        "print(type(boolean))\n",
        "\n",
        "print(bool(-2.3))"
      ],
      "execution_count": null,
      "outputs": []
    },
    {
      "cell_type": "code",
      "metadata": {
        "id": "K6lHW02cVC6f"
      },
      "source": [
        "#None type\n",
        "z = None\n",
        "print(type(z))"
      ],
      "execution_count": null,
      "outputs": []
    },
    {
      "cell_type": "markdown",
      "metadata": {
        "id": "43k3bdBWVLdl"
      },
      "source": [
        "## Commonly used operators in Python"
      ]
    },
    {
      "cell_type": "code",
      "metadata": {
        "id": "hRgFK9ZzVFrp"
      },
      "source": [
        "a = 6.3\n",
        "b = 5.2\n",
        "\n",
        "print('Add: ', a+b)\n",
        "print('Subtract: ', a-b)\n",
        "print('Divide: ', a/b)\n",
        "print('Multiply: ', a*b)\n",
        "print('Floor Division: ', a//b)\n",
        "print('Mod: ', a%b)       \n",
        "print('Power: ', a**b)"
      ],
      "execution_count": null,
      "outputs": []
    },
    {
      "cell_type": "markdown",
      "metadata": {
        "id": "epgvbOtWVuId"
      },
      "source": [
        "### A few tricks"
      ]
    },
    {
      "cell_type": "code",
      "metadata": {
        "id": "NB9-F6tCVpMO"
      },
      "source": [
        "a = 10\n",
        "b = '10&2'\n",
        "\n",
        "print('Before swap: ',a , b)\n",
        "\n",
        "a,b = b,a\n",
        "print('After swap: ', a, b)"
      ],
      "execution_count": null,
      "outputs": []
    },
    {
      "cell_type": "code",
      "metadata": {
        "id": "SyWaqfHhV6L5"
      },
      "source": [
        "a, *b = 34, 23, 10\n",
        "\n",
        "print(type(a))\n",
        "print(type(b))"
      ],
      "execution_count": null,
      "outputs": []
    },
    {
      "cell_type": "markdown",
      "metadata": {
        "id": "8ttnUtpLWg5W"
      },
      "source": [
        "## Type casting in Python\n",
        "\n",
        "Type Casting is the method to convert the variable data type into a certain data type in order for the operation required to be performed by users."
      ]
    },
    {
      "cell_type": "code",
      "metadata": {
        "id": "SzT49t-NWMuS"
      },
      "source": [
        "# switching from string to integer\n",
        "\n",
        "x = '10'\n",
        "print(type(x))\n",
        "\n",
        "print('String to Integer: ', int(x))\n",
        "\n",
        "x = int(x)\n",
        "print(type(x))"
      ],
      "execution_count": null,
      "outputs": []
    },
    {
      "cell_type": "code",
      "metadata": {
        "id": "bDZE0cGjW2RG"
      },
      "source": [
        "# switching from string to float\n",
        "\n",
        "print(float(x))\n",
        "x = float(x)\n",
        "print(type(x))"
      ],
      "execution_count": null,
      "outputs": []
    },
    {
      "cell_type": "code",
      "metadata": {
        "id": "ByWyHb2yXGGh"
      },
      "source": [
        "# switching from integer to string\n",
        "\n",
        "x = str(1) + '0'\n",
        "x = int(x)\n",
        "print(type(x))\n",
        "print(x)"
      ],
      "execution_count": null,
      "outputs": []
    },
    {
      "cell_type": "code",
      "metadata": {
        "id": "-tbNz0ceXS4O"
      },
      "source": [
        "# switching from set to list\n",
        "\n",
        "s = set((1, 2, 3, 5, 8))\n",
        "\n",
        "list_s = list(s)\n",
        "print(list_s)\n",
        "print(type(list_s))"
      ],
      "execution_count": null,
      "outputs": []
    },
    {
      "cell_type": "code",
      "metadata": {
        "id": "92FyE9vyXwgX"
      },
      "source": [
        "# switching from a tuple to list\n",
        "\n",
        "tuples = ((1, 2), (4, 'Ginny'), (7, 'Fred'))\n",
        "\n",
        "list_tup = list(tuples)\n",
        "\n",
        "print(list_tup)"
      ],
      "execution_count": null,
      "outputs": []
    },
    {
      "cell_type": "code",
      "metadata": {
        "id": "667dU9Hgennd"
      },
      "source": [
        "s = set((1,2,3,4))\n"
      ],
      "execution_count": null,
      "outputs": []
    },
    {
      "cell_type": "code",
      "metadata": {
        "id": "fI4hrIYfYLYK"
      },
      "source": [
        "# ascii value of alpha numeric characters\n",
        "\n",
        "print(chr(120))"
      ],
      "execution_count": null,
      "outputs": []
    },
    {
      "cell_type": "code",
      "metadata": {
        "id": "15IRjR0fYWuA"
      },
      "source": [
        "# string to ascii\n",
        "\n",
        "print(ord('x'))"
      ],
      "execution_count": null,
      "outputs": []
    },
    {
      "cell_type": "markdown",
      "metadata": {
        "id": "FOOWQ-hpYfDj"
      },
      "source": [
        "## Using in-built functions"
      ]
    },
    {
      "cell_type": "markdown",
      "metadata": {
        "id": "ptbOxtLzYkwt"
      },
      "source": [
        "### Using the `random` method\n",
        "\n",
        "This method is used to geenrate 'random' values or ranges depending on the requirement."
      ]
    },
    {
      "cell_type": "code",
      "metadata": {
        "id": "Q2-bbLCQYYmo"
      },
      "source": [
        "import random\n",
        "\n",
        "# adding the start and end paramaters\n",
        "\n",
        "print(random.randint(5, 10))"
      ],
      "execution_count": null,
      "outputs": []
    },
    {
      "cell_type": "markdown",
      "metadata": {
        "id": "dOhlnJ3cZOG_"
      },
      "source": [
        "### Using the `math` method\n",
        "\n",
        "You can use this method(/library) to make mathematical operations much easier."
      ]
    },
    {
      "cell_type": "code",
      "metadata": {
        "id": "OLn6RTezZAQo"
      },
      "source": [
        "import math\n",
        "\n",
        "print('inbuilt value of pi: ', math.pi)\n",
        "\n",
        "print('Square root of 2209: ', math.sqrt(2209))\n",
        "print('Ceiling Value: ', math.floor(3.1415))"
      ],
      "execution_count": null,
      "outputs": []
    },
    {
      "cell_type": "markdown",
      "metadata": {
        "id": "AEeN-tSCaPun"
      },
      "source": [
        "### Using the `datetime` method\n",
        "\n",
        "Yeah, nothing fancy about it. Just does what the name mentions."
      ]
    },
    {
      "cell_type": "code",
      "metadata": {
        "id": "17f721kKZp2s"
      },
      "source": [
        "import datetime\n",
        "\n",
        "date = datetime.datetime.now()\n",
        "\n",
        "print(date)\n",
        "print(type(date))"
      ],
      "execution_count": null,
      "outputs": []
    },
    {
      "cell_type": "markdown",
      "metadata": {
        "id": "Z-jk8S03aqlY"
      },
      "source": [
        "## Lists!"
      ]
    },
    {
      "cell_type": "code",
      "metadata": {
        "id": "_9wnAlTpae_u"
      },
      "source": [
        "# initializing a list\n",
        "list_1 = list()\n",
        "print(list_1)\n",
        "\n",
        "# the data type of the variable\n",
        "print(type(list_1))\n",
        "\n",
        "# a numeric list\n",
        "list_num = list((1, 2, 3, 4, 5))\n",
        "print(list_num)\n",
        "\n",
        "# list with objects\n",
        "list_object = ['1', 81, '%', 'Fort Greene']\n",
        "print(list_object)\n",
        "\n",
        "# The operations are automatically computed when mentioned inside the list\n",
        "list_ops = [1*3, 'app'+'lication', 3//2]\n",
        "print(list_ops)"
      ],
      "execution_count": null,
      "outputs": []
    },
    {
      "cell_type": "markdown",
      "metadata": {
        "id": "UM8zUVyNboCx"
      },
      "source": [
        "### Accessing the values from a list\n",
        "\n",
        "**Fun fact:** Python does allow negative indexing!"
      ]
    },
    {
      "cell_type": "code",
      "metadata": {
        "id": "5gwYaHT0bZPC"
      },
      "source": [
        "list_object = ['1', 81, '%', 'Fort Greene']\n",
        "\n",
        "list_object[3]"
      ],
      "execution_count": null,
      "outputs": []
    },
    {
      "cell_type": "code",
      "metadata": {
        "id": "9ipofY0Fb0U1"
      },
      "source": [
        "# executing all the values from the beginning to the end\n",
        "\n",
        "print(list_object[1:])"
      ],
      "execution_count": null,
      "outputs": []
    },
    {
      "cell_type": "code",
      "metadata": {
        "id": "Rpr8D7wSg_HV"
      },
      "source": [
        "print(list_object[:3])"
      ],
      "execution_count": null,
      "outputs": []
    },
    {
      "cell_type": "code",
      "metadata": {
        "id": "xKJh-xDab_Bc"
      },
      "source": [
        "# let's say that we want we to skip a few values in between\n",
        "\n",
        "print(list_object[0:7687:2])"
      ],
      "execution_count": null,
      "outputs": []
    },
    {
      "cell_type": "code",
      "metadata": {
        "id": "vZrPD263cJ5r"
      },
      "source": [
        "# negative ranges\n",
        "\n",
        "print(list_object[-4:])"
      ],
      "execution_count": null,
      "outputs": []
    },
    {
      "cell_type": "markdown",
      "metadata": {
        "id": "L0V-j6SucW38"
      },
      "source": [
        "### Modifying lists"
      ]
    },
    {
      "cell_type": "code",
      "metadata": {
        "id": "vkWrEGdhcOaY"
      },
      "source": [
        "# make changes in the list\n",
        "\n",
        "list_object.extend([0,1.2])\n",
        "print(list_object)\n",
        "\n",
        "\n",
        "# make range of values changes\n",
        "\n",
        "subset_items = [1,52,798,8]\n",
        "list_object[0:4] = subset_items\n",
        "print(list_object)"
      ],
      "execution_count": null,
      "outputs": []
    },
    {
      "cell_type": "code",
      "metadata": {
        "id": "gVXZXxmRc_h5"
      },
      "source": [
        "# skipping changes\n",
        "\n",
        "subset = ['2','45555','12']\n",
        "list_object[0:5:2] = subset\n",
        "print(list_object)"
      ],
      "execution_count": null,
      "outputs": []
    },
    {
      "cell_type": "code",
      "metadata": {
        "id": "sV2V_Y_qdD9I"
      },
      "source": [
        "# delete an element\n",
        "\n",
        "list_object = [1, 2, 12, 6, 112, 3, 4, 5, 7]\n",
        "\n",
        "# can be used as a stack and/or a queue\n",
        "\n",
        "print(list_object)\n",
        "list_object.pop()\n",
        "print(list_object)\n",
        "\n",
        "list_object.pop(2)\n",
        "print(list_object)"
      ],
      "execution_count": null,
      "outputs": []
    },
    {
      "cell_type": "markdown",
      "metadata": {
        "id": "mEAUkcSHdd0b"
      },
      "source": [
        "What do we do if there is an error while removing a value from the list and the list is empty?"
      ]
    },
    {
      "cell_type": "code",
      "metadata": {
        "id": "0RVeKOizdQqL"
      },
      "source": [
        "# we use the try except functionality\n",
        "\n",
        "try:\n",
        "  list_object.remove(10)\n",
        "\n",
        "except:\n",
        "  print('Element not in the list')"
      ],
      "execution_count": null,
      "outputs": []
    },
    {
      "cell_type": "markdown",
      "metadata": {
        "id": "BC8M5ZqudzqK"
      },
      "source": [
        "## The `for` loop"
      ]
    },
    {
      "cell_type": "code",
      "metadata": {
        "id": "eVnWXhDfdq7V"
      },
      "source": [
        "for i in range(0,5):\n",
        "  print(i, end=' ')"
      ],
      "execution_count": null,
      "outputs": []
    },
    {
      "cell_type": "code",
      "metadata": {
        "id": "BDA6B-C9fNI7"
      },
      "source": [
        "print('Adding the step parameter ')\n",
        "\n",
        "for i in range(10,3,-2):\n",
        "  print(i, end=' ')"
      ],
      "execution_count": null,
      "outputs": []
    },
    {
      "cell_type": "code",
      "metadata": {
        "id": "-HopnRQRfSq8"
      },
      "source": [
        "print('Printing the values in the format of a list ')\n",
        "\n",
        "a = [1,2,3,4,5]\n",
        "for i in a:\n",
        "  print(i)"
      ],
      "execution_count": null,
      "outputs": []
    },
    {
      "cell_type": "code",
      "metadata": {
        "id": "ZyhGZlSufaUZ"
      },
      "source": [
        "print('One-line for loop')\n",
        "\n",
        "sum_upto_10 = [i for i in range(11)]\n",
        "print(sum_upto_10)"
      ],
      "execution_count": null,
      "outputs": []
    },
    {
      "cell_type": "code",
      "metadata": {
        "id": "U8xDb2JEfhG_"
      },
      "source": [
        "print('One-linear nested for loop Matrix Multiplication')\n",
        "\n",
        "matrix_mul = [j*i for i in range(5) for j in range(5,10)]\n",
        "print('Matrix Looks like: ', matrix_mul)"
      ],
      "execution_count": null,
      "outputs": []
    },
    {
      "cell_type": "code",
      "metadata": {
        "id": "T3mYXwOpfuqX"
      },
      "source": [
        "a = ['Hello', 'world', '!']\n",
        "\n",
        "# iterable method 1\n",
        "print('Iterable Method 1: ')\n",
        "for i in range(len(a)):\n",
        "  print(i, a[i])\n",
        "\n",
        "# iterable method 2\n",
        "print('\\nIterable Method 2: ')\n",
        "for i in a:\n",
        "  print(i)\n",
        "\n",
        "# (iterable?) method 3\n",
        "print('\\nMethod 3: ')\n",
        "print(list(enumerate(a)))"
      ],
      "execution_count": null,
      "outputs": []
    },
    {
      "cell_type": "markdown",
      "metadata": {
        "id": "Ak9F4uRrg0n4"
      },
      "source": [
        "## Functions\n",
        "\n",
        "To define a function, use the `def` keyword followed by the name of the function with attributes."
      ]
    },
    {
      "cell_type": "code",
      "metadata": {
        "id": "048vzN1Ggkbg"
      },
      "source": [
        "def fizzBuzz():\n",
        "  \n",
        "  '''\n",
        "  Given a range print Fizz if divisible by 3, Buzz if divisible by 5 else FizzBuzz if divisible by 3 and 5\n",
        "  '''\n",
        "\n",
        "  n = int(input('Enter a number: '))\n",
        "  count = 1\n",
        "  while (count <= n):\n",
        "    string = ''\n",
        "    if (count %3 == 0):\n",
        "      string = 'Fizz'\n",
        "    if (count % 5 == 0):\n",
        "      string += 'Buzz'\n",
        "    print(count,string)\n",
        "    count +=1\n",
        "    \n",
        "fizzBuzz()"
      ],
      "execution_count": null,
      "outputs": []
    },
    {
      "cell_type": "code",
      "metadata": {
        "id": "xKoVLslfhIwF"
      },
      "source": [
        "def fizzBuzz():\n",
        "  \n",
        "  '''\n",
        "  Same function as above with more if else conditions.\n",
        "  '''\n",
        "  \n",
        "  n = int(input('Enter a number: '))\n",
        "  count = 1\n",
        "  while(count <= n):\n",
        "    if (count % 5 == 0 and count % 3 == 0):\n",
        "      print(count,'Fizz Buzz')\n",
        "    elif (count % 3 == 0):\n",
        "      print(count,'Fizz')\n",
        "    elif (count % 5 == 0):\n",
        "      print(count,'Buzz')\n",
        "    else:\n",
        "      print(count)\n",
        "    count +=1\n",
        "\n",
        "fizzBuzz()"
      ],
      "execution_count": null,
      "outputs": []
    },
    {
      "cell_type": "markdown",
      "metadata": {
        "id": "Hej1NI9LjM_U"
      },
      "source": [
        "## Dictionaries\n",
        "\n",
        "In the case of dictionaries, we use `key` and not indexes to refer elements in the dictionary."
      ]
    },
    {
      "cell_type": "code",
      "metadata": {
        "id": "zuUqQDD4hVVI"
      },
      "source": [
        "# creating an empty dictionary\n",
        "dict_ = {}\n",
        "\n",
        "#dict_ = {key:value,key:value} \n",
        "# keys have to be in a set i.e., they are to be unique\n",
        "\n",
        "string = 'iamdictionaryiteratemeandseethefun'\n",
        "\n",
        "for ch in string:\n",
        "  if (ch in dict_):\n",
        "    dict_[ch] +=1\n",
        "\n",
        "  else:\n",
        "    dict_[ch] = 1\n",
        "\n",
        "for k,v in dict_.items():\n",
        "  # pass\n",
        "  print(f'Character {k} and its count {v}')"
      ],
      "execution_count": null,
      "outputs": []
    },
    {
      "cell_type": "markdown",
      "metadata": {
        "id": "6_elLpZ6kiK8"
      },
      "source": [
        "**NOTE:** If we try updating for a key that is present the original value will be overwritten"
      ]
    },
    {
      "cell_type": "code",
      "metadata": {
        "id": "sN67bR2IkhBg"
      },
      "source": [
        "# print value for some key\n",
        "\n",
        "# Hint: use .get or check for existence before access to avoid error like below\n",
        "\n",
        "print(dict_['z'])"
      ],
      "execution_count": null,
      "outputs": []
    },
    {
      "cell_type": "code",
      "metadata": {
        "id": "gkgH5jCblKe0"
      },
      "source": [
        "print(dict_.get('z'))"
      ],
      "execution_count": null,
      "outputs": []
    },
    {
      "cell_type": "markdown",
      "metadata": {
        "id": "WKesksqVnpSm"
      },
      "source": [
        "## Sorting\n",
        "\n",
        "For sorting a list, the data type of all the elements should be the same."
      ]
    },
    {
      "cell_type": "code",
      "metadata": {
        "id": "bZQltNt8lN0s"
      },
      "source": [
        "list_ = ['a','3232','21332','bsaa','87','3231']\n",
        "print(list_)\n",
        "\n",
        "print('\\nAscending order: ')\n",
        "\n",
        "# the sorting is done only for the first character\n",
        "result = []\n",
        "for i in list_:\n",
        "  sum_ = 0\n",
        "  for j in i:\n",
        "    sum_ = ord(j)\n",
        "    break\n",
        "  result.append(sum_)\n",
        "\n",
        "# it checks the first character of the string\n",
        "# if there is a match, it proceeds further\n",
        "print('Before sorting')\n",
        "print(list_)\n",
        "print(result)\n",
        "\n",
        "print('---------------')\n",
        "print('After sorting')\n",
        "list_.sort()\n",
        "result.sort()\n",
        "print(list_)\n",
        "print(result)"
      ],
      "execution_count": null,
      "outputs": []
    },
    {
      "cell_type": "code",
      "metadata": {
        "id": "f62xRfAAoRsc"
      },
      "source": [
        "a = [1,3,2]\n",
        "print('a: ', a)\n",
        "b = sorted(a)\n",
        "print('a after sorted(): ',a)\n",
        "print('\\nb: ', b)\n",
        "a.sort()\n",
        "print('a after sort(): ', a)"
      ],
      "execution_count": null,
      "outputs": []
    }
  ]
}