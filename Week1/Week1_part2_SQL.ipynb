{
  "cells": [
    {
      "cell_type": "markdown",
      "source": [
        "## We start with Importing the necessary libraries"
      ],
      "metadata": {
        "id": "u7qBDrvCJtth"
      }
    },
    {
      "cell_type": "code",
      "execution_count": null,
      "metadata": {
        "id": "8IlTjkl9D9EV"
      },
      "outputs": [],
      "source": [
        "import pandas as pd\n",
        "import sqlite3"
      ]
    },
    {
      "cell_type": "markdown",
      "metadata": {
        "id": "URhmPHsSD9Ea"
      },
      "source": [
        "## SQL Hepler Functions (Note: You dont need to worry about this part)"
      ]
    },
    {
      "cell_type": "code",
      "source": [
        "import chardet\n",
        "\n",
        "file  = '/content/northwind_with_headers.csv'\n",
        "with open(file, 'rb') as rawdata:\n",
        "    result = chardet.detect(rawdata.read(100000))\n",
        "result"
      ],
      "metadata": {
        "id": "PL1HKjH0NmEX"
      },
      "execution_count": null,
      "outputs": []
    },
    {
      "cell_type": "code",
      "execution_count": null,
      "metadata": {
        "id": "XKYxhfPvD9Ec"
      },
      "outputs": [],
      "source": [
        "def pd_to_sqlDB(input_df: pd.DataFrame,\n",
        "                table_name: str,\n",
        "                db_name: str = 'default.db') -> None:\n",
        "\n",
        "    '''Take a Pandas dataframe `input_df` and upload it to `table_name` SQLITE table\n",
        "\n",
        "    Args:\n",
        "        input_df (pd.DataFrame): Dataframe containing data to upload to SQLITE\n",
        "        table_name (str): Name of the SQLITE table to upload to\n",
        "        db_name (str, optional): Name of the SQLITE Database in which the table is created. \n",
        "                                 Defaults to 'default.db'.\n",
        "    '''\n",
        "\n",
        "    # Step 1: Setup local logging\n",
        "    import logging\n",
        "    logging.basicConfig(level=logging.INFO,\n",
        "                        format='%(asctime)s %(levelname)s: %(message)s',\n",
        "                        datefmt='%Y-%m-%d %H:%M:%S')\n",
        "\n",
        "    # Step 2: Find columns in the dataframe\n",
        "    cols = input_df.columns\n",
        "    cols_string = ','.join(cols)\n",
        "    val_wildcard_string = ','.join(['?'] * len(cols))\n",
        "\n",
        "    # Step 3: Connect to a DB file if it exists, else crete a new file\n",
        "    con = sqlite3.connect(db_name)\n",
        "    cur = con.cursor()\n",
        "    logging.info(f'SQL DB {db_name} created')\n",
        "\n",
        "    # Step 4: Create Table\n",
        "    sql_string = f\"\"\"CREATE TABLE {table_name} ({cols_string});\"\"\"\n",
        "    cur.execute(sql_string)\n",
        "    logging.info(f'SQL Table {table_name} created with {len(cols)} columns')\n",
        "\n",
        "    # Step 5: Upload the dataframe\n",
        "    rows_to_upload = input_df.to_dict(orient='split')['data']\n",
        "    sql_string = f\"\"\"INSERT INTO {table_name} ({cols_string}) VALUES ({val_wildcard_string});\"\"\"\n",
        "    cur.executemany(sql_string, rows_to_upload)\n",
        "    logging.info(f'{len(rows_to_upload)} rows uploaded to {table_name}')\n",
        "  \n",
        "    # Step 6: Commit the changes and close the connection\n",
        "    con.commit()\n",
        "    con.close()\n",
        "\n",
        "def sql_query_to_pd(sql_query_string: str, db_name: str ='default.db') -> pd.DataFrame:\n",
        "    '''Execute an SQL query and return the results as a pandas dataframe\n",
        "\n",
        "    Args:\n",
        "        sql_query_string (str): SQL query string to execute\n",
        "        db_name (str, optional): Name of the SQLITE Database to execute the query in.\n",
        "                                 Defaults to 'default.db'.\n",
        "\n",
        "    Returns:\n",
        "        pd.DataFrame: Results of the SQL query in a pandas dataframe\n",
        "    '''    \n",
        "    # Step 1: Connect to the SQL DB\n",
        "    con = sqlite3.connect(db_name)\n",
        "\n",
        "    # Step 2: Execute the SQL query\n",
        "    cursor = con.execute(sql_query_string)\n",
        "\n",
        "    # Step 3: Fetch the data and column names\n",
        "    result_data = cursor.fetchall()\n",
        "    cols = [description[0] for description in cursor.description]\n",
        "\n",
        "    # Step 4: Close the connection\n",
        "    con.close()\n",
        "\n",
        "    # Step 5: Return as a dataframe\n",
        "    return pd.DataFrame(result_data, columns=cols)"
      ]
    },
    {
      "cell_type": "markdown",
      "metadata": {
        "id": "iFu60bC9D9Ef"
      },
      "source": [
        "## Execute Query"
      ]
    },
    {
      "cell_type": "code",
      "execution_count": null,
      "metadata": {
        "id": "2Dkwb1OvD9Eg"
      },
      "outputs": [],
      "source": [
        "input_df = pd.read_csv('/content/northwind_with_headers.csv', encoding = 'ISO-8859-1')\n",
        "\n",
        "pd_to_sqlDB(input_df,\n",
        "            table_name='Customers',\n",
        "            db_name='default.db')"
      ]
    },
    {
      "cell_type": "markdown",
      "source": [
        "## Doing the very Basic - Select Everyting "
      ],
      "metadata": {
        "id": "bppmtRa0M2i-"
      }
    },
    {
      "cell_type": "code",
      "source": [
        "sql_query_string = \"\"\"\n",
        "    SELECT * FROM Customers\n",
        "\"\"\"\n",
        " \n",
        "# Step 4: Exectue the SQL query\n",
        "result_df = sql_query_to_pd(sql_query_string, db_name='default.db')\n",
        "result_df"
      ],
      "metadata": {
        "id": "Wrm1JRh-GqYG"
      },
      "execution_count": null,
      "outputs": []
    },
    {
      "cell_type": "markdown",
      "source": [
        "## Limiting the number of rows you want to see"
      ],
      "metadata": {
        "id": "iGM4IU94N8Kd"
      }
    },
    {
      "cell_type": "code",
      "source": [
        "sql_query_string = \"\"\"\n",
        "    SELECT * FROM Customers limit 5\n",
        "\"\"\"\n",
        " \n",
        "# Step 4: Exectue the SQL query\n",
        "result_df = sql_query_to_pd(sql_query_string, db_name='default.db')\n",
        "result_df"
      ],
      "metadata": {
        "id": "Rg31H3DPNsE0"
      },
      "execution_count": null,
      "outputs": []
    },
    {
      "cell_type": "markdown",
      "source": [
        "## Viewing certain Columns  "
      ],
      "metadata": {
        "id": "ypsQdpy_OUx1"
      }
    },
    {
      "cell_type": "code",
      "source": [
        "sql_query_string = \"\"\"\n",
        "    SELECT CustomerID, ContactName, Address, Postalcode FROM Customers limit 7\n",
        "\"\"\"\n",
        " \n",
        "# Step 4: Exectue the SQL query\n",
        "result_df = sql_query_to_pd(sql_query_string, db_name='default.db')\n",
        "result_df"
      ],
      "metadata": {
        "id": "D3hD5Jt_NzER"
      },
      "execution_count": null,
      "outputs": []
    },
    {
      "cell_type": "markdown",
      "source": [
        "## Viewing the distinct values in a column.\n",
        "#### The SQL select distinct Syntax - \n",
        "\n",
        "SELECT DISTINCT col1, col2, ... FROM table_name;"
      ],
      "metadata": {
        "id": "MBmyrVJ6PDLL"
      }
    },
    {
      "cell_type": "code",
      "source": [
        "sql_query_string = \"\"\"\n",
        "    Select Distinct ContactTitle FROM Customers\n",
        "\"\"\"\n",
        " \n",
        "# Step 4: Exectue the SQL query\n",
        "result_df = sql_query_to_pd(sql_query_string, db_name='default.db')\n",
        "result_df"
      ],
      "metadata": {
        "id": "Fh3kXVOWPseL"
      },
      "execution_count": null,
      "outputs": []
    },
    {
      "cell_type": "code",
      "source": [
        "sql_query_string = \"\"\"\n",
        "    Select DISTINCT CustomerID, ContactTitle FROM Customers\n",
        "\"\"\"\n",
        " \n",
        "# Step 4: Exectue the SQL query\n",
        "result_df = sql_query_to_pd(sql_query_string, db_name='default.db')\n",
        "result_df"
      ],
      "metadata": {
        "id": "h_Zp4bKVOlLv"
      },
      "execution_count": null,
      "outputs": []
    },
    {
      "cell_type": "markdown",
      "source": [
        "## Counting the number of items in a colums\n",
        "\n",
        "Syntax: SELECT count(col1) from table_name"
      ],
      "metadata": {
        "id": "KCaw2_xCQ3_A"
      }
    },
    {
      "cell_type": "code",
      "source": [
        "sql_query_string = \"\"\"\n",
        "    Select count(ContactTitle) FROM Customers\n",
        "\"\"\"\n",
        " \n",
        "# Step 4: Exectue the SQL query\n",
        "result_df = sql_query_to_pd(sql_query_string, db_name='default.db')\n",
        "result_df"
      ],
      "metadata": {
        "id": "lvPiHK6hPdKS"
      },
      "execution_count": null,
      "outputs": []
    },
    {
      "cell_type": "code",
      "source": [
        "sql_query_string = \"\"\"\n",
        "    Select count(Distinct ContactTitle) FROM Customers\n",
        "\"\"\"\n",
        " \n",
        "# Step 4: Exectue the SQL query\n",
        "result_df = sql_query_to_pd(sql_query_string, db_name='default.db')\n",
        "result_df"
      ],
      "metadata": {
        "id": "3HgIjrgNQsxS"
      },
      "execution_count": null,
      "outputs": []
    },
    {
      "cell_type": "markdown",
      "source": [
        "## The sql WHERE clause\n",
        "\n",
        "Syntax: SELECT *col1, col2,..* FROM *table_name* WHERE *condition*;\n"
      ],
      "metadata": {
        "id": "tgqqruRORe2C"
      }
    },
    {
      "cell_type": "code",
      "source": [
        "sql_query_string = \"\"\"\n",
        "    SELECT * FROM Customers WHERE Country='Mexico';\n",
        "\"\"\"\n",
        " \n",
        "# Step 4: Exectue the SQL query\n",
        "result_df = sql_query_to_pd(sql_query_string, db_name='default.db')\n",
        "result_df\n"
      ],
      "metadata": {
        "id": "-vpgXjbkRbWh"
      },
      "execution_count": null,
      "outputs": []
    },
    {
      "cell_type": "markdown",
      "source": [
        "### Combining Conditions using AND\n",
        "\n"
      ],
      "metadata": {
        "id": "dadKkSxEWzpF"
      }
    },
    {
      "cell_type": "code",
      "source": [
        "sql_query_string = \"\"\"\n",
        "    SELECT * FROM Customers WHERE Country='Mexico' AND ContactTitle = 'Owner' ;\n",
        "\"\"\"\n",
        " \n",
        "# Step 4: Exectue the SQL query\n",
        "result_df = sql_query_to_pd(sql_query_string, db_name='default.db')\n",
        "result_df"
      ],
      "metadata": {
        "id": "ZNXLhGIfVzkw"
      },
      "execution_count": null,
      "outputs": []
    },
    {
      "cell_type": "markdown",
      "source": [
        "## We can use *Where* Clause with different *operators* to build conditions and access the data\n",
        "\n",
        "\n",
        "Equal: `=`\n",
        "\n",
        "Greater  than: `>`\n",
        "\n",
        " Less than: `<`\n",
        "\n",
        "Greater than or equal to: `>=`\n",
        "\n",
        "Less than or equal to: `<=`\n",
        "\n",
        "Not equal to : `<>` or `!=`\n",
        "\n",
        "Between a certain range: `BETWEEN`\n",
        "\n",
        "To search for a pattern:  `LIKE`"
      ],
      "metadata": {
        "id": "hwJgBJbaXcKZ"
      }
    },
    {
      "cell_type": "code",
      "source": [
        "sql_query_string = \"\"\"\n",
        "    SELECT * FROM Customers WHERE Country='Mexico';\n",
        "\"\"\"\n",
        " \n",
        "# Step 4: Exectue the SQL query\n",
        "result_df = sql_query_to_pd(sql_query_string, db_name='default.db')\n",
        "result_df"
      ],
      "metadata": {
        "id": "Xv7p26oUWxkt"
      },
      "execution_count": null,
      "outputs": []
    },
    {
      "cell_type": "code",
      "source": [
        "sql_query_string = \"\"\"\n",
        "    SELECT * FROM Customers WHERE PostalCode > '5021' limit 5;\n",
        "\"\"\"\n",
        " \n",
        "# Step 4: Exectue the SQL query\n",
        "result_df = sql_query_to_pd(sql_query_string, db_name='default.db')\n",
        "result_df"
      ],
      "metadata": {
        "id": "iAuHU9i4ZKGK"
      },
      "execution_count": null,
      "outputs": []
    },
    {
      "cell_type": "code",
      "source": [
        "sql_query_string = \"\"\"\n",
        "    SELECT * FROM Customers WHERE PostalCode > '5021' limit 5;\n",
        "\"\"\"\n",
        " \n",
        "# Step 4: Exectue the SQL query\n",
        "result_df = sql_query_to_pd(sql_query_string, db_name='default.db')\n",
        "result_df"
      ],
      "metadata": {
        "id": "JIt2yCwiZKJ5"
      },
      "execution_count": null,
      "outputs": []
    },
    {
      "cell_type": "code",
      "source": [
        "sql_query_string = \"\"\"\n",
        "    SELECT * FROM Customers WHERE PostalCode >= '5033' limit 5;\n",
        "\"\"\"\n",
        " \n",
        "# Step 4: Exectue the SQL query\n",
        "result_df = sql_query_to_pd(sql_query_string, db_name='default.db')\n",
        "result_df"
      ],
      "metadata": {
        "id": "arP1dv16ZKM_"
      },
      "execution_count": null,
      "outputs": []
    },
    {
      "cell_type": "code",
      "source": [
        "sql_query_string = \"\"\"\n",
        "    SELECT * FROM Customers WHERE PostalCode Between '5021' AND '5033' limit 5;\n",
        "\"\"\"\n",
        " \n",
        "# Step 4: Exectue the SQL query\n",
        "result_df = sql_query_to_pd(sql_query_string, db_name='default.db')\n",
        "result_df"
      ],
      "metadata": {
        "id": "dNoXjdbnZhOH"
      },
      "execution_count": null,
      "outputs": []
    },
    {
      "cell_type": "code",
      "source": [
        "sql_query_string = \"\"\"\n",
        "    SELECT * FROM Customers WHERE City Like 'V%';\n",
        "\"\"\"\n",
        " \n",
        "# Step 4: Exectue the SQL query\n",
        "result_df = sql_query_to_pd(sql_query_string, db_name='default.db')\n",
        "result_df"
      ],
      "metadata": {
        "id": "8zCKEh7MaQ33"
      },
      "execution_count": null,
      "outputs": []
    },
    {
      "cell_type": "markdown",
      "source": [
        "## The sql ORDER BY statement\n",
        "\n",
        "Syntax: SELECT *col1, col2, ...* FROM *table_name* ORDER BY *col1, col2, ... ASC|DESC*;"
      ],
      "metadata": {
        "id": "aKg84jiKbweN"
      }
    },
    {
      "cell_type": "markdown",
      "source": [
        "## Accessing the tables in ascending order to the Country"
      ],
      "metadata": {
        "id": "AhkwWo8_cn9b"
      }
    },
    {
      "cell_type": "code",
      "source": [
        "sql_query_string = \"\"\"\n",
        "    SELECT * FROM Customers ORDER BY Country limit 5;\n",
        "\"\"\"\n",
        " \n",
        "# Step 4: Exectue the SQL query\n",
        "result_df = sql_query_to_pd(sql_query_string, db_name='default.db')\n",
        "result_df"
      ],
      "metadata": {
        "id": "gCBCaXSEa05s"
      },
      "execution_count": null,
      "outputs": []
    },
    {
      "cell_type": "markdown",
      "source": [
        "## Accessing the tables in descending order to the Country\n"
      ],
      "metadata": {
        "id": "qOlGD8HOc9Ak"
      }
    },
    {
      "cell_type": "code",
      "source": [
        "sql_query_string = \"\"\"\n",
        "    SELECT * FROM Customers ORDER BY Country DESC limit 5;\n",
        "\"\"\"\n",
        " \n",
        "# Step 4: Exectue the SQL query\n",
        "result_df = sql_query_to_pd(sql_query_string, db_name='default.db')\n",
        "result_df"
      ],
      "metadata": {
        "id": "P0QznzAscX2y"
      },
      "execution_count": null,
      "outputs": []
    },
    {
      "cell_type": "markdown",
      "source": [
        "## combining the ASC and DESC commands"
      ],
      "metadata": {
        "id": "C_N7L61oeWKT"
      }
    },
    {
      "cell_type": "code",
      "source": [
        "sql_query_string = \"\"\"\n",
        "    SELECT * FROM Customers ORDER BY Country ASC, CustomerID DESC limit 5;\n",
        "\"\"\"\n",
        " \n",
        "# Step 4: Exectue the SQL query\n",
        "result_df = sql_query_to_pd(sql_query_string, db_name='default.db')\n",
        "result_df"
      ],
      "metadata": {
        "id": "EfHz2QDdcikN"
      },
      "execution_count": null,
      "outputs": []
    },
    {
      "cell_type": "markdown",
      "source": [
        "## The SQL Null Values\n",
        "\n",
        "syntax: SELECT *column_names* FROM *table_name* WHERE *column_name* IS NULL;"
      ],
      "metadata": {
        "id": "c9Hg4c-t21On"
      }
    },
    {
      "cell_type": "code",
      "source": [
        "sql_query_string = \"\"\"\n",
        "    SELECT CustomerID, ContactName, Address FROM Customers WHERE Region IS NULL limit 5;\n",
        "\"\"\"\n",
        " \n",
        "# Step 4: Exectue the SQL query\n",
        "result_df = sql_query_to_pd(sql_query_string, db_name='default.db')\n",
        "result_df"
      ],
      "metadata": {
        "id": "g428RnR920rb"
      },
      "execution_count": null,
      "outputs": []
    },
    {
      "cell_type": "markdown",
      "source": [
        "## The SQL NOT Null Values\n",
        "\n",
        "syntax: SELECT *column_names* FROM *table_name* WHERE *column_name* IS not NULL;"
      ],
      "metadata": {
        "id": "UwY0lhJf3n5x"
      }
    },
    {
      "cell_type": "code",
      "source": [
        "sql_query_string = \"\"\"\n",
        "    SELECT CustomerID, ContactName, Address FROM Customers WHERE Region IS not NULL limit 5;\n",
        "\"\"\"\n",
        " \n",
        "# Step 4: Exectue the SQL query\n",
        "result_df = sql_query_to_pd(sql_query_string, db_name='default.db')\n",
        "result_df"
      ],
      "metadata": {
        "id": "GR9CtZRH3vBJ"
      },
      "execution_count": null,
      "outputs": []
    },
    {
      "cell_type": "markdown",
      "source": [
        "## The sql INSERT Statement\n",
        "\n",
        "Syntax: INSERT INTO *table_name (column1, column2, column3, ...)*\n",
        "\n",
        "VALUES *(value1, value2, value3, ...);*\n",
        "\n",
        "\n",
        "\n",
        "This is one of the thing we cannot show in the colab notebook due to implementation isssue"
      ],
      "metadata": {
        "id": "k9NO8yN-fZAz"
      }
    },
    {
      "cell_type": "code",
      "source": [
        "sql_query_string = \"\"\"\n",
        "    INSERT INTO Customers (CustomerID, CompanyName, ContactName, ContactTitle, Address, City, Region, PostalCode, Country, Phone, Fax)\n",
        "VALUES ('COSMOS', 'Starry night', 'Erichsen', 'Admin', 'Av. Del 9540 60-C', 'Brooklyn', 'Kings', '11450', 'USA', '2324-3453', '454-4543');\n",
        "\"\"\"\n",
        " \n",
        "# Step 4: Exectue the SQL query\n",
        "result_df = sql_query_to_pd(sql_query_string, db_name='default.db')\n",
        "result_df"
      ],
      "metadata": {
        "id": "xUouH-pJdc8d"
      },
      "execution_count": null,
      "outputs": []
    },
    {
      "cell_type": "markdown",
      "source": [
        "### There are a lot more commands in SQL you can use to manipulate and access and update databases and tables, however, The colab limits to mostly manipulate and access but no write an insert command also the database is pretty basic in terms of operations that can be performed. An actual datatable in real-world example is a lot more messy and complicated and large.\n",
        "\n",
        "### Below is the list of commands you should practice in order to have understinding or the most basic SQL commands \n",
        "\n",
        "Resource: \n",
        "\n",
        "[SQL PAd](https://sqlpad.io)\n",
        "\n",
        "[SQL Leetcode](https://leetcode.com/problemset/database/) (For Data Engineering Roles and Full Stack Engineering interviews)\n",
        "\n",
        "\n",
        "\n",
        "### Here you can practice a lot of SQL without going through the pain of installling SQL server, Editor and The Database."
      ],
      "metadata": {
        "id": "TOvw_g2i2GY6"
      }
    },
    {
      "cell_type": "markdown",
      "source": [
        "## The SQL UPDATE Statement\n",
        "\n",
        "Syntax: UPDATE *table_name*\n",
        "SET *column1 = value1, column2 = value2, ...*\n",
        "WHERE *condition*;"
      ],
      "metadata": {
        "id": "FsI3wSWE2Geu"
      }
    },
    {
      "cell_type": "markdown",
      "source": [
        "## The SQL DELETE Statement\n",
        "\n",
        "Syntax: DELETE FROM *table_name* WHERE *condition*;\n"
      ],
      "metadata": {
        "id": "tMXpi08j2Gh0"
      }
    },
    {
      "cell_type": "markdown",
      "source": [
        "# THe SQL Mathematical Operations to access the Data\n"
      ],
      "metadata": {
        "id": "ZOoiOkKJ41f0"
      }
    },
    {
      "cell_type": "markdown",
      "source": [
        "## The SQL MIN() function\n",
        "\n",
        "Syntax: SELECT MIN(*column_name*)\n",
        "FROM *table_name*\n",
        "WHERE *condition;\n"
      ],
      "metadata": {
        "id": "4Q2_oOUM2Gkw"
      }
    },
    {
      "cell_type": "markdown",
      "source": [
        "## The SQL MAX() Function\n",
        "\n",
        "Syntax: SELECT MAX(*column_name*)\n",
        "FROM *table_name*\n",
        "WHERE *condition*;"
      ],
      "metadata": {
        "id": "g-3pn1JQ7wJ7"
      }
    },
    {
      "cell_type": "markdown",
      "source": [
        "## The COUNT() Function\n",
        "\n",
        "Syntax: SELECT COUNT(*column_name*)\n",
        "FROM *table_name*\n",
        "WHERE *condition*;"
      ],
      "metadata": {
        "id": "MEHRkYl54pyR"
      }
    },
    {
      "cell_type": "markdown",
      "source": [
        "## The SQL AVG() Function\n",
        "\n",
        "Syntax: SELECT AVG(column_name) FROM table_name WHERE condition;"
      ],
      "metadata": {
        "id": "Dvit4tez5ML1"
      }
    },
    {
      "cell_type": "markdown",
      "source": [
        "## The SQL SUM() Function\n",
        "\n",
        "Syntax: SELECT SUM(column_name) FROM table_name WHERE condition;"
      ],
      "metadata": {
        "id": "IQDqe-uk5MO-"
      }
    },
    {
      "cell_type": "markdown",
      "source": [
        "## Advance SQL Commands\n",
        "\n",
        "Everything we saw till now was related to a solo tables, however a database can contain multiple table and you may requre to access a combined data from both the tables.\n",
        "\n",
        "SQL JOIN: A JOIN clause is used to combine rows from two or more tables, based on a related column between them.\n",
        "\n",
        "Different Types of SQL JOINs\n",
        "Here are the different types of the JOINs in SQL:\n",
        "\n",
        "\n",
        "1.   (INNER) JOIN: Returns records that have matching values in both tables\n",
        "2.   LEFT (OUTER) JOIN: Returns all records from the left table, and the matched records from the right table\n",
        "3. RIGHT (OUTER) JOIN: Returns all records from the right table, and the matched records from the left table\n",
        "4. FULL (OUTER) JOIN: Returns all records when there is a match in either left or right table"
      ],
      "metadata": {
        "id": "NmpRaFYd-UDt"
      }
    },
    {
      "cell_type": "code",
      "source": [],
      "metadata": {
        "id": "gaAWMdmc-zxg"
      },
      "execution_count": null,
      "outputs": []
    }
  ],
  "metadata": {
    "interpreter": {
      "hash": "167c1561c174e91518859240caf65cbf556e74a4dcd18fddf53afddc95ecd2f9"
    },
    "kernelspec": {
      "display_name": "Python 3",
      "language": "python",
      "name": "python3"
    },
    "language_info": {
      "codemirror_mode": {
        "name": "ipython",
        "version": 3
      },
      "file_extension": ".py",
      "mimetype": "text/x-python",
      "name": "python",
      "nbconvert_exporter": "python",
      "pygments_lexer": "ipython3",
      "version": "3.8.10"
    },
    "colab": {
      "provenance": []
    }
  },
  "nbformat": 4,
  "nbformat_minor": 0
}